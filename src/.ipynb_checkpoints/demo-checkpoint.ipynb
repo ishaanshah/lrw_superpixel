{
 "cells": [
  {
   "cell_type": "code",
   "execution_count": 1,
   "metadata": {},
   "outputs": [],
   "source": [
    "import numpy as np\n",
    "import matplotlib.pyplot as plt\n",
    "import cv2\n",
    "import math\n",
    "from scipy import ndimage\n",
    "from skimage.color import label2rgb\n",
    "import pyrtools as pt\n",
    "\n",
    "from utils import im2double,gauss2D,local_min"
   ]
  },
  {
   "cell_type": "code",
   "execution_count": 30,
   "metadata": {},
   "outputs": [],
   "source": [
    "def get_speed_based_on_gradient(img, normSigma=5):\n",
    "    [gx,gy] = np.gradient(255*img)\n",
    "    mag = np.sqrt(gx**2 + gy**2)\n",
    "    filt = np.array([1])\n",
    "    filt = filt.reshape((1,-1))\n",
    "    ss_mag = pt.corrDn(mag, filt,'repeat', step=[2, 2])\n",
    "    stdev = normSigma\n",
    "    nTaps = np.round(3*stdev) * 2 + 1\n",
    "    \n",
    "    lpImpResp = gauss2D((1,nTaps),stdev)\n",
    "    lpImpResp = lpImpResp / np.max(lpImpResp)\n",
    "    smooth_ssmag0 = ndimage.convolve(ss_mag, lpImpResp)\n",
    "    smooth_ssmag = ndimage.convolve(smooth_ssmag0, lpImpResp.conj().T)\n",
    "\n",
    "    f = np.array([0.5,1.0,0.5]).conj().T\n",
    "    f = f.reshape(-1,1)\n",
    "    res = pt.upConv(smooth_ssmag,f,'reflect1',step=[2,1])\n",
    "    smooth_mag = pt.upConv(res,f.conj().T,'reflect1',step=[1,2])\n",
    "\n",
    "    smooth_mag = smooth_mag / (np.sqrt(2*np.pi) * stdev)\n",
    "    if (smooth_mag.shape[0] != mag.shape[0]):\n",
    "        smooth_mag = smooth_mag[:-1,:]\n",
    "    if (smooth_mag.shape[1] != mag.shape[1]):\n",
    "        smooth_mag = smooth_mag[:,:-1]\n",
    "    magHalfHeight = 10.0\n",
    "    normGradMag = 127 * (mag / (magHalfHeight + smooth_mag))\n",
    "    speed = np.exp(-normGradMag/10)\n",
    "    Dx= np.exp(normGradMag/10)\n",
    "    return Dx,speed\n",
    "\n",
    "def get_seeds_orig(img,num_seeds,speed):\n",
    "    size_grid = np.sqrt(np.size(img) / num_seeds)\n",
    "    rows = img.shape[0] / size_grid\n",
    "    cols = img.shape[1] / size_grid\n",
    "    size_grid_row = img.shape[0] / math.ceil(rows)\n",
    "    size_grid_col = img.shape[1] / math.ceil(cols)\n",
    "    [x,y] = np.mgrid[0:math.ceil(rows-1)+1,0:math.ceil(cols-1)+1]\n",
    "    x = x.astype(float).T\n",
    "    y = y.astype(float).T\n",
    "    y = y*size_grid_col + size_grid_col/2\n",
    "    x = x*size_grid_row + size_grid_row/2\n",
    "    \n",
    "    mag = 1-speed\n",
    "    \n",
    "    minDistBetweenSeeds = min(size_grid_row,size_grid_col)\n",
    "    seedRadius = 1\n",
    "    \n",
    "    maxShift = math.floor((minDistBetweenSeeds - 2*seedRadius) / 2) - 1\n",
    "    N = math.ceil(maxShift/2)\n",
    "#     size = (2*N, 2*N)\n",
    "#     shape = cv2.MORPH_RECT\n",
    "#     kernel = cv2.getStructuringElement(shape, size)\n",
    "#     min_image = cv2.erode(mag, kernel)\n",
    "    [dx,dy] = local_min(img,N)\n",
    "    ind = np.hstack((x.astype(\"int\")[0,:],y.astype(\"int\")[:,0]))\n",
    "    x_row = list(x[0,:].astype(\"int\")-1)\n",
    "    y_row = list(y[:,0].astype(\"int\")-1)\n",
    "    new_x = dx[np.ix_(x_row, y_row)].T\n",
    "    new_y = dy[np.ix_(x_row, y_row)].T\n",
    "    x = new_x\n",
    "    y = new_y\n",
    "    off = 2\n",
    "    x_trun = x.copy()\n",
    "    x_trun[x_trun>(img.shape[0]-off)] = img.shape[0]-off\n",
    "    y_trun = y.copy()\n",
    "    y_trun[y_trun>(img.shape[1]-off)] = img.shape[1]-off\n",
    "    x = x_trun\n",
    "    x[x<(1+off)] = 1+off\n",
    "    y = y_trun.copy()\n",
    "    y[y<(1+off)] = 1+off\n",
    "    \n",
    "    seeds = np.vstack((x.flatten(),y.flatten())).T\n",
    "    return seeds   \n",
    "\n",
    "def generate_seeds(Nsp,img):\n",
    "    n_init = np.round(Nsp/4)\n",
    "    expSuperPixelDist = np.sqrt(np.size(img)/n_init)\n",
    "    normSigma = math.floor(expSuperPixelDist / 2.5)\n",
    "    _,speed = get_speed_based_on_gradient(img,normSigma)\n",
    "#     print (\"speed:\",speed[0,:])\n",
    "    seeds = get_seeds_orig(img,n_init,speed)\n",
    "    return seeds"
   ]
  },
  {
   "cell_type": "code",
   "execution_count": 31,
   "metadata": {},
   "outputs": [],
   "source": [
    "# Params\n",
    "Nsp=200 #num of sp\n",
    "Thres=1.35 #threshold for split\n",
    "beta=30 #gaussian parameter \n",
    "alpha=0.9992 #Lazy parameter\n",
    "nItrs_max = 10 #limit for the number of iterations"
   ]
  },
  {
   "cell_type": "code",
   "execution_count": 32,
   "metadata": {},
   "outputs": [],
   "source": [
    "img = cv2.cvtColor(cv2.imread(\"../images/290.jpg\"),cv2.COLOR_BGR2RGB)\n",
    "scale_percent = 25\n",
    "width = math.ceil(img.shape[1] * scale_percent / 100)\n",
    "height = math.ceil(img.shape[0] * scale_percent / 100)\n",
    "dim = (width, height)\n",
    "  \n",
    "img = cv2.resize(img, dim, interpolation = cv2.INTER_AREA)\n",
    "gray_img = cv2.cvtColor(img.astype('uint8'), cv2.COLOR_RGB2GRAY)\n",
    "img = im2double(img)\n",
    "X,Y,Z = img.shape"
   ]
  },
  {
   "cell_type": "code",
   "execution_count": 33,
   "metadata": {},
   "outputs": [
    {
     "name": "stdout",
     "output_type": "stream",
     "text": [
      "[[  4.   4.]\n",
      " [ 22.   5.]\n",
      " [ 35.   5.]\n",
      " [ 45.   5.]\n",
      " [ 62.   6.]\n",
      " [ 76.   6.]\n",
      " [  6.  22.]\n",
      " [ 19.  22.]\n",
      " [ 33.  22.]\n",
      " [ 46.  20.]\n",
      " [ 60.  20.]\n",
      " [ 75.  21.]\n",
      " [  5.  32.]\n",
      " [ 18.  31.]\n",
      " [ 31.  32.]\n",
      " [ 45.  33.]\n",
      " [ 58.  32.]\n",
      " [ 74.  33.]\n",
      " [  4.  47.]\n",
      " [ 22.  48.]\n",
      " [ 35.  48.]\n",
      " [ 45.  45.]\n",
      " [ 62.  49.]\n",
      " [ 76.  49.]\n",
      " [  8.  61.]\n",
      " [ 22.  62.]\n",
      " [ 31.  62.]\n",
      " [ 48.  62.]\n",
      " [ 62.  58.]\n",
      " [ 76.  58.]\n",
      " [  5.  73.]\n",
      " [ 18.  74.]\n",
      " [ 34.  71.]\n",
      " [ 46.  71.]\n",
      " [ 58.  75.]\n",
      " [ 74.  72.]\n",
      " [  4.  85.]\n",
      " [ 18.  86.]\n",
      " [ 31.  86.]\n",
      " [ 45.  86.]\n",
      " [ 58.  87.]\n",
      " [ 72.  87.]\n",
      " [  8. 100.]\n",
      " [ 22. 101.]\n",
      " [ 35. 101.]\n",
      " [ 49. 101.]\n",
      " [ 62. 102.]\n",
      " [ 76. 102.]\n",
      " [  7. 112.]\n",
      " [ 18. 116.]\n",
      " [ 33. 113.]\n",
      " [ 46. 113.]\n",
      " [ 60. 114.]\n",
      " [ 73. 114.]]\n"
     ]
    }
   ],
   "source": [
    "seeds = generate_seeds(Nsp,im2double(gray_img/255))\n",
    "print (seeds)"
   ]
  },
  {
   "cell_type": "code",
   "execution_count": 35,
   "metadata": {},
   "outputs": [
    {
     "data": {
      "text/plain": [
       "(54, 2)"
      ]
     },
     "execution_count": 35,
     "metadata": {},
     "output_type": "execute_result"
    }
   ],
   "source": [
    "seeds.shape"
   ]
  },
  {
   "cell_type": "code",
   "execution_count": null,
   "metadata": {},
   "outputs": [],
   "source": []
  }
 ],
 "metadata": {
  "kernelspec": {
   "display_name": "lenaEnv",
   "language": "python",
   "name": "lenaenv"
  },
  "language_info": {
   "codemirror_mode": {
    "name": "ipython",
    "version": 3
   },
   "file_extension": ".py",
   "mimetype": "text/x-python",
   "name": "python",
   "nbconvert_exporter": "python",
   "pygments_lexer": "ipython3",
   "version": "3.8.5"
  }
 },
 "nbformat": 4,
 "nbformat_minor": 2
}
