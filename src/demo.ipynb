{
 "cells": [
  {
   "cell_type": "code",
   "execution_count": 4,
   "metadata": {},
   "outputs": [],
   "source": [
    "import numpy as np\n",
    "import matplotlib.pyplot as plt\n",
    "import cv2\n",
    "import math\n",
    "from scipy import ndimage, sparse, linalg\n",
    "from skimage.color import label2rgb, rgb2lab\n",
    "from skimage.feature import local_binary_pattern\n",
    "import pyrtools as pt\n",
    "from tqdm import tqdm\n",
    "\n",
    "from utils import im2double, gauss2D, local_min, get_weights, seg2bmap\n",
    "from tqdm import tqdm"
   ]
  },
  {
   "cell_type": "code",
   "execution_count": 5,
   "metadata": {},
   "outputs": [],
   "source": [
    "def get_speed_based_on_gradient(img, normSigma=5):\n",
    "    [gx,gy] = np.gradient(255*img)\n",
    "    mag = np.sqrt(gx**2 + gy**2)\n",
    "    filt = np.array([1])\n",
    "    filt = filt.reshape((1,-1))\n",
    "    ss_mag = pt.corrDn(mag, filt,'repeat', step=[2, 2])\n",
    "    stdev = normSigma\n",
    "    nTaps = np.round(3*stdev) * 2 + 1\n",
    "    \n",
    "    lpImpResp = gauss2D((1,nTaps),stdev)\n",
    "    lpImpResp = lpImpResp / np.max(lpImpResp)\n",
    "    smooth_ssmag0 = ndimage.convolve(ss_mag, lpImpResp)\n",
    "    smooth_ssmag = ndimage.convolve(smooth_ssmag0, lpImpResp.conj().T)\n",
    "\n",
    "    f = np.array([0.5,1.0,0.5]).conj().T\n",
    "    f = f.reshape(-1,1)\n",
    "    res = pt.upConv(smooth_ssmag,f,'reflect1',step=[2,1])\n",
    "    smooth_mag = pt.upConv(res,f.conj().T,'reflect1',step=[1,2])\n",
    "\n",
    "    smooth_mag = smooth_mag / (np.sqrt(2*np.pi) * stdev)\n",
    "    if (smooth_mag.shape[0] != mag.shape[0]):\n",
    "        smooth_mag = smooth_mag[:-1,:]\n",
    "    if (smooth_mag.shape[1] != mag.shape[1]):\n",
    "        smooth_mag = smooth_mag[:,:-1]\n",
    "    magHalfHeight = 10.0\n",
    "    normGradMag = 127 * (mag / (magHalfHeight + smooth_mag))\n",
    "    speed = np.exp(-normGradMag/10)\n",
    "    Dx= np.exp(normGradMag/10)\n",
    "    return Dx,speed\n",
    "\n",
    "def get_seeds_orig(img,num_seeds,speed):\n",
    "    size_grid = np.sqrt(np.size(img) / num_seeds)\n",
    "    rows = img.shape[0] / size_grid\n",
    "    cols = img.shape[1] / size_grid\n",
    "    size_grid_row = img.shape[0] / math.ceil(rows)\n",
    "    size_grid_col = img.shape[1] / math.ceil(cols)\n",
    "    [x,y] = np.mgrid[0:math.ceil(rows-1)+1,0:math.ceil(cols-1)+1]\n",
    "    x = x.astype(float).T\n",
    "    y = y.astype(float).T\n",
    "    y = y*size_grid_col + size_grid_col/2\n",
    "    x = x*size_grid_row + size_grid_row/2\n",
    "    \n",
    "    mag = 1-speed\n",
    "    \n",
    "    minDistBetweenSeeds = min(size_grid_row,size_grid_col)\n",
    "    seedRadius = 1\n",
    "    \n",
    "    maxShift = math.floor((minDistBetweenSeeds - 2*seedRadius) / 2) - 1\n",
    "    N = math.ceil(maxShift/2)\n",
    "#     size = (2*N, 2*N)\n",
    "#     shape = cv2.MORPH_RECT\n",
    "#     kernel = cv2.getStructuringElement(shape, size)\n",
    "#     min_image = cv2.erode(mag, kernel)\n",
    "    [dx,dy] = local_min(img,N)\n",
    "    ind = np.hstack((x.astype(\"int\")[0,:],y.astype(\"int\")[:,0]))\n",
    "    x_row = list(x[0,:].astype(\"int\")-1)\n",
    "    y_row = list(y[:,0].astype(\"int\")-1)\n",
    "    new_x = dx[np.ix_(x_row, y_row)].T\n",
    "    new_y = dy[np.ix_(x_row, y_row)].T\n",
    "    x = new_x\n",
    "    y = new_y\n",
    "    off = 2\n",
    "    x_trun = x.copy()\n",
    "    x_trun[x_trun>(img.shape[0]-off)] = img.shape[0]-off\n",
    "    y_trun = y.copy()\n",
    "    y_trun[y_trun>(img.shape[1]-off)] = img.shape[1]-off\n",
    "    x = x_trun\n",
    "    x[x<(1+off)] = 1+off\n",
    "    y = y_trun.copy()\n",
    "    y[y<(1+off)] = 1+off\n",
    "    \n",
    "    seeds = np.vstack((x.flatten(),y.flatten())).T\n",
    "    return seeds   \n",
    "\n",
    "def generate_seeds(Nsp,img):\n",
    "    n_init = np.round(Nsp/4)\n",
    "    expSuperPixelDist = np.sqrt(np.size(img)/n_init)\n",
    "    normSigma = math.floor(expSuperPixelDist / 2.5)\n",
    "    _,speed = get_speed_based_on_gradient(img,normSigma)\n",
    "#     print (\"speed:\",speed[0,:])\n",
    "    seeds = get_seeds_orig(img,n_init,speed)\n",
    "    return seeds"
   ]
  },
  {
   "cell_type": "code",
   "execution_count": 6,
   "metadata": {},
   "outputs": [],
   "source": [
    "# Params\n",
    "Nsp=200 #num of sp\n",
    "Thres=1.35 #threshold for split\n",
    "beta=30 #gaussian parameter \n",
    "alpha=0.9992 #Lazy parameter\n",
    "nItrs_max = 10 #limit for the number of iterations\n"
   ]
  },
  {
   "cell_type": "code",
   "execution_count": 7,
   "metadata": {},
   "outputs": [],
   "source": [
    "img = cv2.cvtColor(cv2.imread(\"../images/290.jpg\"),cv2.COLOR_BGR2RGB)\n",
    "scale_percent = 25\n",
    "width = math.ceil(img.shape[1] * scale_percent / 100)\n",
    "height = math.ceil(img.shape[0] * scale_percent / 100)\n",
    "dim = (width, height)\n",
    "  \n",
    "img = cv2.resize(img, dim, interpolation = cv2.INTER_AREA)\n",
    "gray_img = cv2.cvtColor(img.astype('uint8'), cv2.COLOR_RGB2GRAY)\n",
    "orig_img = img.copy()\n",
    "img = im2double(img)\n",
    "X,Y,Z = img.shape"
   ]
  },
  {
   "cell_type": "code",
   "execution_count": 8,
   "metadata": {},
   "outputs": [
    {
     "name": "stdout",
     "output_type": "stream",
     "text": [
      "[[ 4.  4.]\n",
      " [22.  5.]\n",
      " [35.  5.]\n",
      " [45.  5.]\n",
      " [62.  6.]]\n"
     ]
    }
   ],
   "source": [
    "seeds = generate_seeds(Nsp,im2double(gray_img/255))\n",
    "print(seeds[:5])"
   ]
  },
  {
   "cell_type": "code",
   "execution_count": 9,
   "metadata": {},
   "outputs": [],
   "source": [
    "def LRW(adj, seeds, labels, alpha, size):\n",
    "    \"\"\"Find and optimize the superpixel results\n",
    "    Args:\n",
    "        adj: The adjacency matrix of the graph generated from image\n",
    "        seeds: The seed positions (Row major form)\n",
    "        labels: The labels corrosponding to the seeds\n",
    "        alpha: Probability of staying put in LRW\n",
    "        size: Size of the image\n",
    "    Returns:\n",
    "        image: Labeled image\n",
    "        prob: The probability that the seed belongs to the label\n",
    "    \"\"\"\n",
    "    I = sparse.identity(size)\n",
    "    D_inv = sparse.coo_matrix((np.asarray(adj.sum(axis=0)).ravel(), \n",
    "                              (np.arange(size), np.arange(size))), \n",
    "                              shape=(size, size))\n",
    "    np.reciprocal(D_inv.data, out=D_inv.data)\n",
    "    lines = np.zeros(shape=(size, len(labels)))\n",
    "    for k in range(len(seeds)):\n",
    "        label_idx = np.where(labels == k)[0]\n",
    "        mk = label_idx.shape[0]\n",
    "        lines[seeds[label_idx].astype(int), k] = 1 / mk\n",
    "    D_inv_sqrt = D_inv.sqrt()\n",
    "    S = D_inv_sqrt @ adj @ D_inv_sqrt\n",
    "    flk = sparse.linalg.spsolve(I - alpha*S, lines)\n",
    "    likelihoods = np.zeros(shape=(size, len(labels)))\n",
    "    for k in range(len(seeds)):\n",
    "        likelihoods[:,k] = flk[:,k]/np.sum(flk[:,k], axis=0)\n",
    "    plt.hist(likelihoods.ravel(), bins=100)\n",
    "    sum_like = 1/np.sum(likelihoods, axis=1)\n",
    "    # probs = sparse.coo_matrix((sum_like, (np.arange(size), np.arange(size)))) @ likelihoods\n",
    "    labels_idx = likelihoods.argmax(axis=1)\n",
    "    prob = np.max(likelihoods, axis=1)\n",
    "    return prob, labels_idx\n",
    "\n",
    "def energy_opt(image, seeds, alpha, count, iters, sigma, thres):\n",
    "    \"\"\"Find and optimize the superpixel results\n",
    "    Args:\n",
    "        image: Original Image (RGB / Grayscale)\n",
    "        seeds: The initial seed positions\n",
    "        alpha: Probability of staying put in LRW\n",
    "        count: Number of superpixels\n",
    "        iters: Max number of iterations\n",
    "        sigma: Gaussian parameter\n",
    "        thres: Threshold to split bigger superpixels\n",
    "    Returns:\n",
    "        label: Labeled image\n",
    "        seeds: The optimized seed positions\n",
    "        iters: The number of iterations taken for convergence\n",
    "    \"\"\"\n",
    "    pbar = tqdm(total=nItrs_max)\n",
    "    height, width = image.shape[:2]\n",
    "    \n",
    "    lab = rgb2lab(image, illuminant='D65')\n",
    "\n",
    "    # Generate adjacency matrix\n",
    "    adj = get_weights(lab, sigma)\n",
    "    gray_img = cv2.cvtColor(image.astype('uint8'), cv2.COLOR_RGB2GRAY)\n",
    "    LBP = local_binary_pattern(gray_img, 8, 1, 'uniform')#not sure if method should be uniform\n",
    "#     lbp = lbp.ravel()\n",
    "    print (LBP.shape)\n",
    "#     plt.hist(LBP)\n",
    "#     plt.show()\n",
    "    area_aver=np.sum(LBP)/count\n",
    "    \n",
    "    # Iteratvely improve superpixels\n",
    "    new_seeds = seeds.copy()\n",
    "    iter_num = 0\n",
    "    while len(new_seeds) < count and iter_num < iters:\n",
    "        # Get labels and seed indices in row major form\n",
    "        seeds_idx = new_seeds[:,0]*width + new_seeds[:,1]\n",
    "        labels = np.arange(len(new_seeds))\n",
    "        prob, labels_idx = LRW(adj, new_seeds, labels, alpha, height*width)\n",
    "        # plt.hist(labels_idx, bins = 50)\n",
    "        label_img = labels_idx.reshape((height, width))\n",
    "        prob_map = prob.reshape((height, width))\n",
    "        cmt = 1 - prob_map\n",
    "        centers_new = np.array([])\n",
    "        wx_all = np.exp(-(cmt/0.8)) # TODO: replace by phi\n",
    "        zer_count = 0 #how many seeds have no points assigned - 29 each time. why?\n",
    "        for k in range(0, len(new_seeds)):\n",
    "            tmp = np.array(np.where(label_img == k))\n",
    "            if not tmp.shape[1]:\n",
    "                zer_count+=1\n",
    "                continue\n",
    "#             print(label_img == k)\n",
    "            cmt_s = cmt[label_img == k]\n",
    "#             print(label_img)\n",
    "#             print(cmt_s.shape, label_img.shape, k)\n",
    "#             print(cmt_s.shape)\n",
    "            wx = wx_all[label_img == k]\n",
    "            mask = np.tile(new_seeds[k,:], (len(tmp[0]), 1))\n",
    "            r = tmp[0]\n",
    "            c = tmp[1]\n",
    "            dists = np.sqrt(np.sum(((mask-tmp.T)**2),axis = 1))\n",
    "#             print(cmt_s.shape)\n",
    "            idx_centre = np.where(dists == 0)\n",
    "#             print(cmt_s.shape)\n",
    "            # Check later\n",
    "            cmt_s = np.delete(cmt_s, idx_centre, axis=0)\n",
    "            r = np.delete(r, idx_centre, axis=0)\n",
    "            c = np.delete(c, idx_centre, axis=0)\n",
    "            dists = np.delete(dists, idx_centre, axis=0)\n",
    "            wx = np.delete(wx, idx_centre, axis=0)\n",
    "            mass=sum(wx*(cmt_s/dists))\n",
    "#             print (mass)\n",
    "            cp_new = np.array([0,0])\n",
    "            cp_new[0]=sum(wx*(cmt_s/dists)*r)/mass\n",
    "            cp_new[1]=sum(wx*(cmt_s/dists)*c)/mass\n",
    "            if np.sqrt(np.sum((np.round(cp_new)-seeds[k,:])**2))<=1.5:\n",
    "                area_l=sum(LBP[label_img==i]) # compute the area of superpixel i\n",
    "                lbpratio=area_l/area_aver\n",
    "                if lbpratio>=thres:\n",
    "                    mask = np.delete(mask,-1,0)\n",
    "                    M=np.ones((2,2))\n",
    "                    temp_Cs=Cmt_s**2./dists**2\n",
    "                    crd_diff=np.array([r,c])-mask\n",
    "                    M = np.array([0,0,0,0])\n",
    "                    M[0]=sum(temp_Cs*crd_diff[:,0]**2);\n",
    "                    M[1]=sum(temp_Cs*crd_diff[:,0]*crd_diff[:,1])\n",
    "                    M[2]=M[1]\n",
    "                    M[3]=sum(temp_Cs*crd_diff[:,1]**2)\n",
    "                    U,_,_ = np.linalg.svd(M)\n",
    "                    temp_split=crd_diff*U[:,0]\n",
    "                    mass1=sum(Cmt_s[temp_split>0]/dists[temp_split>0])\n",
    "                    mass2=sum(Cmt_s[temp_split<0]/dists[temp_split<0])\n",
    "                    c1 = np.array([0,0])\n",
    "                    c2 = np.array([0,0])\n",
    "                    c1[0]=sum((Cmt_s[temp_split>0]/dists[temp_split>0])*r[temp_split>0])/mass1\n",
    "                    c1[1]=sum((Cmt_s[temp_split>0]/dists[temp_split>0])*c[temp_split>0])/mass1\n",
    "                    c2[0]=sum((Cmt_s[temp_split<0]/dists[temp_split<0])*r[temp_split<0])/mass2\n",
    "                    c2[1]=sum((Cmt_s[temp_split<0]/dists[temp_split<0])*c[temp_split<0])/mass2\n",
    "                    np.hstack((x,y))\n",
    "                    centers_new=np.vstack(centers_new, c1)\n",
    "                    centers_new=np.vstack(centers_new, c2)\n",
    "                else:\n",
    "                    centers_new=np.vstack(centers_new, cp_new)\n",
    "        \n",
    "            # print(cp_new1, cp_new2, mass)\n",
    "#             print(tmp)\n",
    "#             r = [l[0] for l in tmp]\n",
    "#             c = [l[1] for l in tmp]\n",
    "        new_seeds=np.round(centers_new)\n",
    "        iter_num += 1\n",
    "        pbar.update(1)\n",
    "    seeds_idx = new_seeds[:,0]*width + new_seeds[:,1]\n",
    "    labels = np.arange(len(new_seeds))\n",
    "    prob, labels_idx = LRW(adj, new_seeds, labels, alpha, height*width)\n",
    "    label_img = labels_idx.reshape((height, width))\n",
    "#         print(new_seeds, iter_num)\n",
    "    return label_img, new_seeds, iter_num\n",
    "\n"
   ]
  },
  {
   "cell_type": "code",
   "execution_count": 10,
   "metadata": {},
   "outputs": [
    {
     "name": "stderr",
     "output_type": "stream",
     "text": [
      "  0%|          | 0/10 [00:00<?, ?it/s]"
     ]
    },
    {
     "name": "stdout",
     "output_type": "stream",
     "text": [
      "(81, 121)\n"
     ]
    },
    {
     "name": "stderr",
     "output_type": "stream",
     "text": [
      " 10%|█         | 1/10 [00:00<00:04,  1.96it/s]"
     ]
    },
    {
     "ename": "IndexError",
     "evalue": "too many indices for array: array is 1-dimensional, but 2 were indexed",
     "output_type": "error",
     "traceback": [
      "\u001b[0;31m---------------------------------------------------------------------------\u001b[0m",
      "\u001b[0;31mIndexError\u001b[0m                                Traceback (most recent call last)",
      "\u001b[0;32m<ipython-input-10-a57296d02fbf>\u001b[0m in \u001b[0;36m<module>\u001b[0;34m\u001b[0m\n\u001b[0;32m----> 1\u001b[0;31m \u001b[0mres\u001b[0m\u001b[0;34m,\u001b[0m \u001b[0mseeds\u001b[0m\u001b[0;34m,\u001b[0m \u001b[0miters\u001b[0m \u001b[0;34m=\u001b[0m \u001b[0menergy_opt\u001b[0m\u001b[0;34m(\u001b[0m\u001b[0morig_img\u001b[0m\u001b[0;34m,\u001b[0m \u001b[0mseeds\u001b[0m\u001b[0;34m,\u001b[0m \u001b[0malpha\u001b[0m\u001b[0;34m,\u001b[0m \u001b[0mNsp\u001b[0m\u001b[0;34m,\u001b[0m \u001b[0mnItrs_max\u001b[0m\u001b[0;34m,\u001b[0m \u001b[0mbeta\u001b[0m\u001b[0;34m,\u001b[0m \u001b[0mThres\u001b[0m\u001b[0;34m)\u001b[0m\u001b[0;34m\u001b[0m\u001b[0;34m\u001b[0m\u001b[0m\n\u001b[0m\u001b[1;32m      2\u001b[0m \u001b[0mbmap\u001b[0m \u001b[0;34m=\u001b[0m \u001b[0mseg2bmap\u001b[0m\u001b[0;34m(\u001b[0m\u001b[0mres\u001b[0m\u001b[0;34m,\u001b[0m\u001b[0mY\u001b[0m\u001b[0;34m,\u001b[0m\u001b[0mX\u001b[0m\u001b[0;34m)\u001b[0m\u001b[0;34m\u001b[0m\u001b[0;34m\u001b[0m\u001b[0m\n\u001b[1;32m      3\u001b[0m \u001b[0midx\u001b[0m \u001b[0;34m=\u001b[0m \u001b[0mnp\u001b[0m\u001b[0;34m.\u001b[0m\u001b[0mwhere\u001b[0m\u001b[0;34m(\u001b[0m\u001b[0mbmap\u001b[0m\u001b[0;34m>\u001b[0m\u001b[0;36m0\u001b[0m\u001b[0;34m)\u001b[0m\u001b[0;34m\u001b[0m\u001b[0;34m\u001b[0m\u001b[0m\n",
      "\u001b[0;32m<ipython-input-9-355a929127fa>\u001b[0m in \u001b[0;36menergy_opt\u001b[0;34m(image, seeds, alpha, count, iters, sigma, thres)\u001b[0m\n\u001b[1;32m     69\u001b[0m     \u001b[0;32mwhile\u001b[0m \u001b[0mlen\u001b[0m\u001b[0;34m(\u001b[0m\u001b[0mnew_seeds\u001b[0m\u001b[0;34m)\u001b[0m \u001b[0;34m<\u001b[0m \u001b[0mcount\u001b[0m \u001b[0;32mand\u001b[0m \u001b[0miter_num\u001b[0m \u001b[0;34m<\u001b[0m \u001b[0miters\u001b[0m\u001b[0;34m:\u001b[0m\u001b[0;34m\u001b[0m\u001b[0;34m\u001b[0m\u001b[0m\n\u001b[1;32m     70\u001b[0m         \u001b[0;31m# Get labels and seed indices in row major form\u001b[0m\u001b[0;34m\u001b[0m\u001b[0;34m\u001b[0m\u001b[0;34m\u001b[0m\u001b[0m\n\u001b[0;32m---> 71\u001b[0;31m         \u001b[0mseeds_idx\u001b[0m \u001b[0;34m=\u001b[0m \u001b[0mnew_seeds\u001b[0m\u001b[0;34m[\u001b[0m\u001b[0;34m:\u001b[0m\u001b[0;34m,\u001b[0m\u001b[0;36m0\u001b[0m\u001b[0;34m]\u001b[0m\u001b[0;34m*\u001b[0m\u001b[0mwidth\u001b[0m \u001b[0;34m+\u001b[0m \u001b[0mnew_seeds\u001b[0m\u001b[0;34m[\u001b[0m\u001b[0;34m:\u001b[0m\u001b[0;34m,\u001b[0m\u001b[0;36m1\u001b[0m\u001b[0;34m]\u001b[0m\u001b[0;34m\u001b[0m\u001b[0;34m\u001b[0m\u001b[0m\n\u001b[0m\u001b[1;32m     72\u001b[0m         \u001b[0mlabels\u001b[0m \u001b[0;34m=\u001b[0m \u001b[0mnp\u001b[0m\u001b[0;34m.\u001b[0m\u001b[0marange\u001b[0m\u001b[0;34m(\u001b[0m\u001b[0mlen\u001b[0m\u001b[0;34m(\u001b[0m\u001b[0mnew_seeds\u001b[0m\u001b[0;34m)\u001b[0m\u001b[0;34m)\u001b[0m\u001b[0;34m\u001b[0m\u001b[0;34m\u001b[0m\u001b[0m\n\u001b[1;32m     73\u001b[0m         \u001b[0mprob\u001b[0m\u001b[0;34m,\u001b[0m \u001b[0mlabels_idx\u001b[0m \u001b[0;34m=\u001b[0m \u001b[0mLRW\u001b[0m\u001b[0;34m(\u001b[0m\u001b[0madj\u001b[0m\u001b[0;34m,\u001b[0m \u001b[0mnew_seeds\u001b[0m\u001b[0;34m,\u001b[0m \u001b[0mlabels\u001b[0m\u001b[0;34m,\u001b[0m \u001b[0malpha\u001b[0m\u001b[0;34m,\u001b[0m \u001b[0mheight\u001b[0m\u001b[0;34m*\u001b[0m\u001b[0mwidth\u001b[0m\u001b[0;34m)\u001b[0m\u001b[0;34m\u001b[0m\u001b[0;34m\u001b[0m\u001b[0m\n",
      "\u001b[0;31mIndexError\u001b[0m: too many indices for array: array is 1-dimensional, but 2 were indexed"
     ]
    },
    {
     "data": {
      "image/png": "[encoded data removed]",
      "text/plain": [
       "<Figure size 432x288 with 1 Axes>"
      ]
     },
     "metadata": {
      "needs_background": "light"
     },
     "output_type": "display_data"
    }
   ],
   "source": [
    "res, seeds, iters = energy_opt(orig_img, seeds, alpha, Nsp, nItrs_max, beta, Thres)\n",
    "bmap = seg2bmap(res,Y,X)\n",
    "idx = np.where(bmap>0)\n",
    "bmapOnImg = img[:,:,0]\n",
    "bmapOnImg[idx] = 1\n",
    "if Z==3:\n",
    "    temp=img[:,:,1]\n",
    "    temp[idx]=0\n",
    "    bmapOnImg[]:,:,1] = temp\n",
    "    temp=img[:,:,2]\n",
    "    temp[idx]=0\n",
    "    bmapOnImg[:,:,2] = temp\n",
    "\n",
    "## vis bmaponimg"
   ]
  },
  {
   "cell_type": "code",
   "execution_count": 7,
   "metadata": {},
   "outputs": [
    {
     "data": {
      "text/plain": [
       "array([[0, 1, 1, 1, 1],\n",
       "       [3, 0, 1, 2, 3]])"
      ]
     },
     "execution_count": 7,
     "metadata": {},
     "output_type": "execute_result"
    }
   ],
   "source": [
    "a = np.array([[0, 1,2, 3],[3,4,5, 6]])\n",
    "np.array(np.where(a >= 3))"
   ]
  },
  {
   "cell_type": "code",
   "execution_count": 8,
   "metadata": {},
   "outputs": [
    {
     "name": "stdout",
     "output_type": "stream",
     "text": [
      "[]\n"
     ]
    }
   ],
   "source": [
    "print(np.empty([0,0]))"
   ]
  },
  {
   "cell_type": "code",
   "execution_count": 23,
   "metadata": {},
   "outputs": [
    {
     "data": {
      "text/plain": [
       "(array([[9., 9., 9., 8., 4., 6., 9., 0., 0., 0.],\n",
       "        [6., 6., 6., 4., 4., 6., 4., 6., 6., 6.]]),\n",
       " array([  4. ,  15.2,  26.4,  37.6,  48.8,  60. ,  71.2,  82.4,  93.6,\n",
       "        104.8, 116. ]),\n",
       " <a list of 2 BarContainer objects>)"
      ]
     },
     "execution_count": 23,
     "metadata": {},
     "output_type": "execute_result"
    },
    {
     "data": {
      "image/png": "[encoded data removed]",
      "text/plain": [
       "<Figure size 432x288 with 1 Axes>"
      ]
     },
     "metadata": {
      "needs_background": "light"
     },
     "output_type": "display_data"
    }
   ],
   "source": [
    "plt.hist(seeds)"
   ]
  },
  {
   "cell_type": "code",
   "execution_count": null,
   "metadata": {},
   "outputs": [],
   "source": []
  }
 ],
 "metadata": {
  "kernelspec": {
   "display_name": "Python 3",
   "language": "python",
   "name": "python3"
  },
  "language_info": {
   "codemirror_mode": {
    "name": "ipython",
    "version": 3
   },
   "file_extension": ".py",
   "mimetype": "text/x-python",
   "name": "python",
   "nbconvert_exporter": "python",
   "pygments_lexer": "ipython3",
   "version": "3.9.2"
  }
 },
 "nbformat": 4,
 "nbformat_minor": 4
}
