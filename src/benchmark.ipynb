{
 "cells": [
  {
   "cell_type": "code",
   "execution_count": 47,
   "id": "cultural-discretion",
   "metadata": {},
   "outputs": [],
   "source": [
    "import numpy as np\n",
    "import scipy.io\n",
    "import pickle"
   ]
  },
  {
   "cell_type": "code",
   "execution_count": 48,
   "id": "running-owner",
   "metadata": {},
   "outputs": [
    {
     "name": "stdout",
     "output_type": "stream",
     "text": [
      "Number of labels in gt: 18\n",
      "Number of labels in pred: 199\n"
     ]
    }
   ],
   "source": [
    "mat = scipy.io.loadmat('../bsds500/ground_truth/train/100075.mat')\n",
    "gt = mat['groundTruth'][0][0][0][0][0]\n",
    "print(\"Number of labels in gt:\", np.max(gt))\n",
    "with open('res.pkl', 'rb') as f:\n",
    "    pred = pickle.load(f)\n",
    "print(\"Number of labels in pred:\", np.max(pred))"
   ]
  },
  {
   "cell_type": "code",
   "execution_count": 50,
   "id": "previous-white",
   "metadata": {},
   "outputs": [
    {
     "data": {
      "text/plain": [
       "((321, 481), (321, 481))"
      ]
     },
     "execution_count": 50,
     "metadata": {},
     "output_type": "execute_result"
    }
   ],
   "source": [
    "pred.shape, gt.shape"
   ]
  },
  {
   "cell_type": "code",
   "execution_count": 51,
   "id": "danish-harvest",
   "metadata": {},
   "outputs": [],
   "source": [
    "def is4ConnectedBoundaryPixel(labels, i, j):\n",
    "    if i > 0 and labels[i][j] != labels[i-1][j]:\n",
    "        return True\n",
    "    if i < labels.shape[0] - 1 and labels[i][j] != labels[i+1][j]:\n",
    "        return True\n",
    "    if j > 0 and labels[i][j] != labels[i][j-1]:\n",
    "        return True\n",
    "    if j < labels.shape[1] - 1 and labels[i][j] != labels[i][j+1]:\n",
    "        return True\n",
    "    return False"
   ]
  },
  {
   "cell_type": "code",
   "execution_count": 67,
   "id": "legislative-coalition",
   "metadata": {},
   "outputs": [],
   "source": [
    "def computeIntersectionMatrix(labels, gt):\n",
    "    superpixels = np.max(labels)\n",
    "    gt_segments = np.max(gt)\n",
    "    for i in range(labels.shape[0]):\n",
    "        for j in range(labels.shape[1]):\n",
    "            if labels[i][j] > superpixels:\n",
    "                superpixels = labels[i][j]\n",
    "            if gt[i][j] > gt_segments:\n",
    "                gt_segments = gt[i][j]\n",
    "    superpixels+=1;\n",
    "    gt_segments+=1;\n",
    "#     superpixel_sizes.resize(superpixels, 0);\n",
    "#     gt_sizes.resize(gt_segments, 0);\n",
    "    \n",
    "    intersection_matrix = np.zeros([gt_segments, superpixels])\n",
    "#     // Rember to reset as not done in create.\n",
    "    superpixel_sizes = np.zeros([superpixels])\n",
    "    gt_sizes = np.zeros([gt_segments])\n",
    "    for i in range(gt.shape[0]):\n",
    "        for j in range(gt.shape[1]):\n",
    "            intersection_matrix[gt[i][j]][labels[i][j]] += 1\n",
    "            superpixel_sizes[labels[i][j]] += 1\n",
    "            gt_sizes[gt[i][j]] += 1\n",
    "\n",
    "    return intersection_matrix, superpixel_sizes, gt_sizes"
   ]
  },
  {
   "cell_type": "code",
   "execution_count": 68,
   "id": "fantastic-fiction",
   "metadata": {},
   "outputs": [],
   "source": [
    "def boundaryRecall(gt, pred, d):\n",
    "    assert gt.shape[0] == pred.shape[0] and gt.shape[1] == pred.shape[1]\n",
    "    h = gt.shape[0]\n",
    "    w = gt.shape[1]\n",
    "    r = np.round(d*(h*h+w*w)**(1/2))\n",
    "    tp = 0\n",
    "    fn = 0\n",
    "    for i in range(h):\n",
    "        for j in range(w):\n",
    "            if is4ConnectedBoundaryPixel(gt, i, j):\n",
    "                pos = False\n",
    "                for k in range(max(0, i-r), min(h - 1, i + r) + 1):\n",
    "                    for l in range(max(0, j - r), min(w - 1, j + r) + 1):\n",
    "                        if is4ConnectedBoundaryPixel(pred, k, l):\n",
    "                            pos = True\n",
    "                if pos:\n",
    "                    tp += 1\n",
    "                else:\n",
    "                    fn += 1\n",
    "    if tp + fn > 0:\n",
    "        return tp/(tp + fn)\n",
    "    \n",
    "    return 0"
   ]
  },
  {
   "cell_type": "code",
   "execution_count": 75,
   "id": "romance-proxy",
   "metadata": {},
   "outputs": [],
   "source": [
    "def computeAchievableSegmentationAccuracy(gt, pred):\n",
    "    assert gt.shape[0] == pred.shape[0] and gt.shape[1] == pred.shape[1]\n",
    "    h = gt.shape[0]\n",
    "    w = gt.shape[1]\n",
    "    n = h*w\n",
    "    intersection_matrix, superpixel_sizes, gt_sizes = computeIntersectionMatrix(pred, gt)\n",
    "    acc = 0\n",
    "    for j in range(intersection_matrix.shape[1]):\n",
    "        mx = 0\n",
    "        for i in range(intersection_matrix.shape[0]):\n",
    "            if intersection_matrix[i][j] > mx:\n",
    "                mx = intersection_matrix[i][j]\n",
    "        acc += mx\n",
    "    return acc"
   ]
  },
  {
   "cell_type": "code",
   "execution_count": 76,
   "id": "clinical-conspiracy",
   "metadata": {},
   "outputs": [],
   "source": [
    "def computeUndersegmentationError(gt, pred):\n",
    "    assert gt.shape[0] == pred.shape[0] and gt.shape[1] == pred.shape[1]\n",
    "    h = gt.shape[0]\n",
    "    w = gt.shape[1]\n",
    "    n = h*w\n",
    "    intersection_matrix, superpixel_sizes, gt_sizes = computeIntersectionMatrix(pred, gt)\n",
    "    error = 0\n",
    "    for j in range(intersection_matrix.shape[1]):\n",
    "        mn = float('inf')\n",
    "        for i in range(intersection_matrix.shape[0]):\n",
    "            tmp = superpixel_sizes[j] - intersection_matrix[i][j]\n",
    "            if tmp  < mn:\n",
    "                mn = tmp\n",
    "        error += mn\n",
    "    return error/n"
   ]
  },
  {
   "cell_type": "code",
   "execution_count": 79,
   "id": "neural-textbook",
   "metadata": {},
   "outputs": [
    {
     "data": {
      "text/plain": [
       "0.0"
      ]
     },
     "execution_count": 79,
     "metadata": {},
     "output_type": "execute_result"
    }
   ],
   "source": [
    "computeUndersegmentationError(gt, pred)"
   ]
  },
  {
   "cell_type": "code",
   "execution_count": 81,
   "id": "indonesian-greece",
   "metadata": {},
   "outputs": [
    {
     "data": {
      "text/plain": [
       "143024.0"
      ]
     },
     "execution_count": 81,
     "metadata": {},
     "output_type": "execute_result"
    }
   ],
   "source": [
    "computeAchievableSegmentationAccuracy(gt, pred)"
   ]
  },
  {
   "cell_type": "code",
   "execution_count": 82,
   "id": "supported-slovakia",
   "metadata": {},
   "outputs": [
    {
     "data": {
      "text/plain": [
       "1.0"
      ]
     },
     "execution_count": 82,
     "metadata": {},
     "output_type": "execute_result"
    }
   ],
   "source": [
    "boundaryRecall(gt, pred, 5)"
   ]
  },
  {
   "cell_type": "code",
   "execution_count": null,
   "id": "impaired-split",
   "metadata": {},
   "outputs": [],
   "source": []
  }
 ],
 "metadata": {
  "kernelspec": {
   "display_name": "Python 3",
   "language": "python",
   "name": "python3"
  },
  "language_info": {
   "codemirror_mode": {
    "name": "ipython",
    "version": 3
   },
   "file_extension": ".py",
   "mimetype": "text/x-python",
   "name": "python",
   "nbconvert_exporter": "python",
   "pygments_lexer": "ipython3",
   "version": "3.9.2"
  }
 },
 "nbformat": 4,
 "nbformat_minor": 5
}
